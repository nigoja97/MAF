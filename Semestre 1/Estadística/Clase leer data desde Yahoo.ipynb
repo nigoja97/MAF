{
 "cells": [
  {
   "cell_type": "code",
   "execution_count": null,
   "metadata": {},
   "outputs": [],
   "source": [
    "import yahoofinancials as YahooFinancials\n",
    "import pandas as pd\n",
    "import plotly.express as px\n",
    "import yfinance as yf"
   ]
  },
  {
   "cell_type": "code",
   "execution_count": 7,
   "metadata": {
    "scrolled": false
   },
   "outputs": [
    {
     "data": {
      "text/html": [
       "<div>\n",
       "<style scoped>\n",
       "    .dataframe tbody tr th:only-of-type {\n",
       "        vertical-align: middle;\n",
       "    }\n",
       "\n",
       "    .dataframe tbody tr th {\n",
       "        vertical-align: top;\n",
       "    }\n",
       "\n",
       "    .dataframe thead th {\n",
       "        text-align: right;\n",
       "    }\n",
       "</style>\n",
       "<table border=\"1\" class=\"dataframe\">\n",
       "  <thead>\n",
       "    <tr style=\"text-align: right;\">\n",
       "      <th></th>\n",
       "      <th>Open</th>\n",
       "      <th>High</th>\n",
       "      <th>Low</th>\n",
       "      <th>Close</th>\n",
       "      <th>Adj Close</th>\n",
       "      <th>Volume</th>\n",
       "    </tr>\n",
       "    <tr>\n",
       "      <th>Date</th>\n",
       "      <th></th>\n",
       "      <th></th>\n",
       "      <th></th>\n",
       "      <th></th>\n",
       "      <th></th>\n",
       "      <th></th>\n",
       "    </tr>\n",
       "  </thead>\n",
       "  <tbody>\n",
       "    <tr>\n",
       "      <th>2018-01-02</th>\n",
       "      <td>39.980000</td>\n",
       "      <td>40.860001</td>\n",
       "      <td>39.980000</td>\n",
       "      <td>40.830002</td>\n",
       "      <td>35.390408</td>\n",
       "      <td>157900</td>\n",
       "    </tr>\n",
       "    <tr>\n",
       "      <th>2018-01-03</th>\n",
       "      <td>40.790001</td>\n",
       "      <td>41.119999</td>\n",
       "      <td>40.560001</td>\n",
       "      <td>41.049999</td>\n",
       "      <td>35.581097</td>\n",
       "      <td>111600</td>\n",
       "    </tr>\n",
       "    <tr>\n",
       "      <th>2018-01-04</th>\n",
       "      <td>41.380001</td>\n",
       "      <td>42.259998</td>\n",
       "      <td>41.060001</td>\n",
       "      <td>42.189999</td>\n",
       "      <td>36.569214</td>\n",
       "      <td>186600</td>\n",
       "    </tr>\n",
       "    <tr>\n",
       "      <th>2018-01-05</th>\n",
       "      <td>42.000000</td>\n",
       "      <td>43.139999</td>\n",
       "      <td>42.000000</td>\n",
       "      <td>43.090000</td>\n",
       "      <td>37.349312</td>\n",
       "      <td>194700</td>\n",
       "    </tr>\n",
       "    <tr>\n",
       "      <th>2018-01-08</th>\n",
       "      <td>43.090000</td>\n",
       "      <td>43.349998</td>\n",
       "      <td>42.889999</td>\n",
       "      <td>43.220001</td>\n",
       "      <td>37.462006</td>\n",
       "      <td>196600</td>\n",
       "    </tr>\n",
       "  </tbody>\n",
       "</table>\n",
       "</div>"
      ],
      "text/plain": [
       "                 Open       High        Low      Close  Adj Close  Volume\n",
       "Date                                                                     \n",
       "2018-01-02  39.980000  40.860001  39.980000  40.830002  35.390408  157900\n",
       "2018-01-03  40.790001  41.119999  40.560001  41.049999  35.581097  111600\n",
       "2018-01-04  41.380001  42.259998  41.060001  42.189999  36.569214  186600\n",
       "2018-01-05  42.000000  43.139999  42.000000  43.090000  37.349312  194700\n",
       "2018-01-08  43.090000  43.349998  42.889999  43.220001  37.462006  196600"
      ]
     },
     "execution_count": 7,
     "metadata": {},
     "output_type": "execute_result"
    }
   ],
   "source": [
    "tickers=['CIB']\n",
    "start_date='2018-01-01' # Formato Año-Mes-Día\n",
    "end_date='2022-03-21' # Formato Año-Mes-Día\n",
    "panel_data=yf.download(tickers, start_date, end_date, progress=False)\n",
    "panel_data.head()"
   ]
  },
  {
   "cell_type": "code",
   "execution_count": null,
   "metadata": {},
   "outputs": [],
   "source": [
    "panel_data.to_excel(r'C:\\Users\\ACADA\\Desktop\\EHM\\SimMontecarlo.xlsx')"
   ]
  },
  {
   "cell_type": "code",
   "execution_count": 9,
   "metadata": {
    "scrolled": true
   },
   "outputs": [
    {
     "data": {
      "text/plain": [
       "Date\n",
       "2018-01-02    157900\n",
       "2018-01-03    111600\n",
       "2018-01-04    186600\n",
       "2018-01-05    194700\n",
       "2018-01-08    196600\n",
       "Name: Volume, dtype: int64"
      ]
     },
     "execution_count": 9,
     "metadata": {},
     "output_type": "execute_result"
    }
   ],
   "source": [
    "volumen = panel_data['Volume']\n",
    "volumen.head()"
   ]
  },
  {
   "cell_type": "code",
   "execution_count": null,
   "metadata": {},
   "outputs": [],
   "source": [
    "fig=px.line(volumen,y=volumen.columns)\n",
    "fig.show()"
   ]
  }
 ],
 "metadata": {
  "kernelspec": {
   "display_name": "Python 3 (ipykernel)",
   "language": "python",
   "name": "python3"
  },
  "language_info": {
   "codemirror_mode": {
    "name": "ipython",
    "version": 3
   },
   "file_extension": ".py",
   "mimetype": "text/x-python",
   "name": "python",
   "nbconvert_exporter": "python",
   "pygments_lexer": "ipython3",
   "version": "3.9.12"
  }
 },
 "nbformat": 4,
 "nbformat_minor": 2
}
