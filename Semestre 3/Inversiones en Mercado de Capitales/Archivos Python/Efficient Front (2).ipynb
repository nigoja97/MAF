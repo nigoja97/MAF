{
 "cells": [
  {
   "cell_type": "code",
   "execution_count": 1,
   "id": "039e1542-560e-4c2a-84ee-615dd81f896f",
   "metadata": {
    "tags": []
   },
   "outputs": [],
   "source": [
    "import pandas as pd\n",
    "import numpy as np\n",
    "import matplotlib.pyplot as plt\n",
    "import pandas_datareader as web\n",
    "import yfinance as yf\n",
    "from matplotlib.figure import Figure\n",
    "import plotly.graph_objects as go\n",
    "from scipy.optimize import minimize"
   ]
  },
  {
   "cell_type": "markdown",
   "id": "ea2304e6-3e6b-418d-9d2c-c7010564440f",
   "metadata": {},
   "source": [
    "## Aquí vamos a bajar de yahoo finance la serie histórica de 10 activos"
   ]
  },
  {
   "cell_type": "code",
   "execution_count": 2,
   "id": "cd9802de-2bc1-4354-bacf-eeb805f46bf4",
   "metadata": {
    "tags": []
   },
   "outputs": [
    {
     "name": "stdout",
     "output_type": "stream",
     "text": [
      "[*********************100%%**********************]  10 of 10 completed\n"
     ]
    },
    {
     "data": {
      "text/html": [
       "<div>\n",
       "<style scoped>\n",
       "    .dataframe tbody tr th:only-of-type {\n",
       "        vertical-align: middle;\n",
       "    }\n",
       "\n",
       "    .dataframe tbody tr th {\n",
       "        vertical-align: top;\n",
       "    }\n",
       "\n",
       "    .dataframe thead th {\n",
       "        text-align: right;\n",
       "    }\n",
       "</style>\n",
       "<table border=\"1\" class=\"dataframe\">\n",
       "  <thead>\n",
       "    <tr style=\"text-align: right;\">\n",
       "      <th></th>\n",
       "      <th>AAPL</th>\n",
       "      <th>AMZN</th>\n",
       "      <th>DIS</th>\n",
       "      <th>JNJ</th>\n",
       "      <th>JPM</th>\n",
       "      <th>META</th>\n",
       "      <th>MSFT</th>\n",
       "      <th>PG</th>\n",
       "      <th>TGT</th>\n",
       "      <th>WMT</th>\n",
       "    </tr>\n",
       "    <tr>\n",
       "      <th>Date</th>\n",
       "      <th></th>\n",
       "      <th></th>\n",
       "      <th></th>\n",
       "      <th></th>\n",
       "      <th></th>\n",
       "      <th></th>\n",
       "      <th></th>\n",
       "      <th></th>\n",
       "      <th></th>\n",
       "      <th></th>\n",
       "    </tr>\n",
       "  </thead>\n",
       "  <tbody>\n",
       "    <tr>\n",
       "      <th>2023-05-23</th>\n",
       "      <td>171.328644</td>\n",
       "      <td>114.989998</td>\n",
       "      <td>89.820000</td>\n",
       "      <td>155.679688</td>\n",
       "      <td>134.664673</td>\n",
       "      <td>246.740005</td>\n",
       "      <td>314.593933</td>\n",
       "      <td>145.706512</td>\n",
       "      <td>145.909225</td>\n",
       "      <td>147.784622</td>\n",
       "    </tr>\n",
       "    <tr>\n",
       "      <th>2023-05-24</th>\n",
       "      <td>171.608261</td>\n",
       "      <td>116.750000</td>\n",
       "      <td>89.070000</td>\n",
       "      <td>155.530777</td>\n",
       "      <td>133.432297</td>\n",
       "      <td>249.210007</td>\n",
       "      <td>313.186920</td>\n",
       "      <td>144.501755</td>\n",
       "      <td>141.883743</td>\n",
       "      <td>147.107040</td>\n",
       "    </tr>\n",
       "    <tr>\n",
       "      <th>2023-05-25</th>\n",
       "      <td>172.756714</td>\n",
       "      <td>115.000000</td>\n",
       "      <td>88.139999</td>\n",
       "      <td>153.296997</td>\n",
       "      <td>133.757660</td>\n",
       "      <td>252.690002</td>\n",
       "      <td>325.231415</td>\n",
       "      <td>143.573486</td>\n",
       "      <td>139.553711</td>\n",
       "      <td>145.642258</td>\n",
       "    </tr>\n",
       "    <tr>\n",
       "      <th>2023-05-26</th>\n",
       "      <td>175.193420</td>\n",
       "      <td>120.110001</td>\n",
       "      <td>88.290001</td>\n",
       "      <td>153.237427</td>\n",
       "      <td>135.009750</td>\n",
       "      <td>262.040009</td>\n",
       "      <td>332.186707</td>\n",
       "      <td>143.583359</td>\n",
       "      <td>137.749161</td>\n",
       "      <td>145.901321</td>\n",
       "    </tr>\n",
       "    <tr>\n",
       "      <th>2023-05-30</th>\n",
       "      <td>177.060898</td>\n",
       "      <td>121.660004</td>\n",
       "      <td>87.820000</td>\n",
       "      <td>153.257263</td>\n",
       "      <td>135.522415</td>\n",
       "      <td>262.519989</td>\n",
       "      <td>330.510223</td>\n",
       "      <td>141.391098</td>\n",
       "      <td>132.702438</td>\n",
       "      <td>145.542603</td>\n",
       "    </tr>\n",
       "  </tbody>\n",
       "</table>\n",
       "</div>"
      ],
      "text/plain": [
       "                  AAPL        AMZN        DIS         JNJ         JPM  \\\n",
       "Date                                                                    \n",
       "2023-05-23  171.328644  114.989998  89.820000  155.679688  134.664673   \n",
       "2023-05-24  171.608261  116.750000  89.070000  155.530777  133.432297   \n",
       "2023-05-25  172.756714  115.000000  88.139999  153.296997  133.757660   \n",
       "2023-05-26  175.193420  120.110001  88.290001  153.237427  135.009750   \n",
       "2023-05-30  177.060898  121.660004  87.820000  153.257263  135.522415   \n",
       "\n",
       "                  META        MSFT          PG         TGT         WMT  \n",
       "Date                                                                    \n",
       "2023-05-23  246.740005  314.593933  145.706512  145.909225  147.784622  \n",
       "2023-05-24  249.210007  313.186920  144.501755  141.883743  147.107040  \n",
       "2023-05-25  252.690002  325.231415  143.573486  139.553711  145.642258  \n",
       "2023-05-26  262.040009  332.186707  143.583359  137.749161  145.901321  \n",
       "2023-05-30  262.519989  330.510223  141.391098  132.702438  145.542603  "
      ]
     },
     "execution_count": 2,
     "metadata": {},
     "output_type": "execute_result"
    }
   ],
   "source": [
    "# Next we will get the stock tickers and the price data.\n",
    "\n",
    "ticker = ['JPM', 'AAPL', 'WMT', 'TGT', 'MSFT', 'AMZN', 'META','JNJ', 'PG', 'DIS']\n",
    "price_data = yf.download(ticker,\n",
    "                         start='2014-01-01',\n",
    "                         end='2023-05-31')['Adj Close']\n",
    "                         \n",
    "price_data.tail()"
   ]
  },
  {
   "cell_type": "code",
   "execution_count": 3,
   "id": "8fabd210-b8a3-40be-a1d8-90451d6d8bc9",
   "metadata": {
    "tags": []
   },
   "outputs": [
    {
     "data": {
      "text/html": [
       "<div>\n",
       "<style scoped>\n",
       "    .dataframe tbody tr th:only-of-type {\n",
       "        vertical-align: middle;\n",
       "    }\n",
       "\n",
       "    .dataframe tbody tr th {\n",
       "        vertical-align: top;\n",
       "    }\n",
       "\n",
       "    .dataframe thead th {\n",
       "        text-align: right;\n",
       "    }\n",
       "</style>\n",
       "<table border=\"1\" class=\"dataframe\">\n",
       "  <thead>\n",
       "    <tr style=\"text-align: right;\">\n",
       "      <th></th>\n",
       "      <th>AAPL</th>\n",
       "      <th>AMZN</th>\n",
       "      <th>DIS</th>\n",
       "      <th>JNJ</th>\n",
       "      <th>JPM</th>\n",
       "      <th>META</th>\n",
       "      <th>MSFT</th>\n",
       "      <th>PG</th>\n",
       "      <th>TGT</th>\n",
       "      <th>WMT</th>\n",
       "    </tr>\n",
       "    <tr>\n",
       "      <th>Date</th>\n",
       "      <th></th>\n",
       "      <th></th>\n",
       "      <th></th>\n",
       "      <th></th>\n",
       "      <th></th>\n",
       "      <th></th>\n",
       "      <th></th>\n",
       "      <th></th>\n",
       "      <th></th>\n",
       "      <th></th>\n",
       "    </tr>\n",
       "  </thead>\n",
       "  <tbody>\n",
       "    <tr>\n",
       "      <th>2014-01-03</th>\n",
       "      <td>-0.021966</td>\n",
       "      <td>-0.003845</td>\n",
       "      <td>-0.002098</td>\n",
       "      <td>0.009008</td>\n",
       "      <td>0.007731</td>\n",
       "      <td>-0.002742</td>\n",
       "      <td>-0.006727</td>\n",
       "      <td>-0.001118</td>\n",
       "      <td>0.004907</td>\n",
       "      <td>-0.003295</td>\n",
       "    </tr>\n",
       "    <tr>\n",
       "      <th>2014-01-06</th>\n",
       "      <td>0.005453</td>\n",
       "      <td>-0.007088</td>\n",
       "      <td>-0.003810</td>\n",
       "      <td>0.005226</td>\n",
       "      <td>0.005796</td>\n",
       "      <td>0.048387</td>\n",
       "      <td>-0.021132</td>\n",
       "      <td>0.002362</td>\n",
       "      <td>-0.006773</td>\n",
       "      <td>-0.005595</td>\n",
       "    </tr>\n",
       "    <tr>\n",
       "      <th>2014-01-07</th>\n",
       "      <td>-0.007152</td>\n",
       "      <td>0.011178</td>\n",
       "      <td>0.006858</td>\n",
       "      <td>0.021228</td>\n",
       "      <td>-0.011525</td>\n",
       "      <td>0.012587</td>\n",
       "      <td>0.007749</td>\n",
       "      <td>0.009673</td>\n",
       "      <td>-0.002379</td>\n",
       "      <td>0.003069</td>\n",
       "    </tr>\n",
       "    <tr>\n",
       "      <th>2014-01-08</th>\n",
       "      <td>0.006333</td>\n",
       "      <td>0.009773</td>\n",
       "      <td>-0.014671</td>\n",
       "      <td>-0.001378</td>\n",
       "      <td>0.009431</td>\n",
       "      <td>0.005352</td>\n",
       "      <td>-0.017852</td>\n",
       "      <td>-0.014493</td>\n",
       "      <td>-0.003497</td>\n",
       "      <td>-0.007903</td>\n",
       "    </tr>\n",
       "    <tr>\n",
       "      <th>2014-01-09</th>\n",
       "      <td>-0.012770</td>\n",
       "      <td>-0.002264</td>\n",
       "      <td>-0.004254</td>\n",
       "      <td>0.006053</td>\n",
       "      <td>-0.001869</td>\n",
       "      <td>-0.017345</td>\n",
       "      <td>-0.006432</td>\n",
       "      <td>0.002243</td>\n",
       "      <td>0.010369</td>\n",
       "      <td>0.003341</td>\n",
       "    </tr>\n",
       "  </tbody>\n",
       "</table>\n",
       "</div>"
      ],
      "text/plain": [
       "                AAPL      AMZN       DIS       JNJ       JPM      META  \\\n",
       "Date                                                                     \n",
       "2014-01-03 -0.021966 -0.003845 -0.002098  0.009008  0.007731 -0.002742   \n",
       "2014-01-06  0.005453 -0.007088 -0.003810  0.005226  0.005796  0.048387   \n",
       "2014-01-07 -0.007152  0.011178  0.006858  0.021228 -0.011525  0.012587   \n",
       "2014-01-08  0.006333  0.009773 -0.014671 -0.001378  0.009431  0.005352   \n",
       "2014-01-09 -0.012770 -0.002264 -0.004254  0.006053 -0.001869 -0.017345   \n",
       "\n",
       "                MSFT        PG       TGT       WMT  \n",
       "Date                                                \n",
       "2014-01-03 -0.006727 -0.001118  0.004907 -0.003295  \n",
       "2014-01-06 -0.021132  0.002362 -0.006773 -0.005595  \n",
       "2014-01-07  0.007749  0.009673 -0.002379  0.003069  \n",
       "2014-01-08 -0.017852 -0.014493 -0.003497 -0.007903  \n",
       "2014-01-09 -0.006432  0.002243  0.010369  0.003341  "
      ]
     },
     "execution_count": 3,
     "metadata": {},
     "output_type": "execute_result"
    }
   ],
   "source": [
    "returns_data = price_data.pct_change(1)\n",
    "\n",
    "returns_data.dropna(inplace=True)\n",
    "returns_data.head()"
   ]
  },
  {
   "cell_type": "code",
   "execution_count": 4,
   "id": "6f7778f4-3fab-4701-a4d1-80e321411308",
   "metadata": {
    "tags": []
   },
   "outputs": [
    {
     "data": {
      "text/plain": [
       "AAPL    0.001148\n",
       "AMZN    0.000985\n",
       "DIS     0.000243\n",
       "JNJ     0.000397\n",
       "JPM     0.000622\n",
       "META    0.000952\n",
       "MSFT    0.001144\n",
       "PG      0.000427\n",
       "TGT     0.000612\n",
       "WMT     0.000435\n",
       "dtype: float64"
      ]
     },
     "execution_count": 4,
     "metadata": {},
     "output_type": "execute_result"
    }
   ],
   "source": [
    "mean_returns = returns_data.mean()\n",
    "mean_returns"
   ]
  },
  {
   "cell_type": "code",
   "execution_count": 5,
   "id": "ea61f064-e7e8-4a83-8ce8-e8a9a193608f",
   "metadata": {
    "tags": []
   },
   "outputs": [
    {
     "data": {
      "text/html": [
       "<div>\n",
       "<style scoped>\n",
       "    .dataframe tbody tr th:only-of-type {\n",
       "        vertical-align: middle;\n",
       "    }\n",
       "\n",
       "    .dataframe tbody tr th {\n",
       "        vertical-align: top;\n",
       "    }\n",
       "\n",
       "    .dataframe thead th {\n",
       "        text-align: right;\n",
       "    }\n",
       "</style>\n",
       "<table border=\"1\" class=\"dataframe\">\n",
       "  <thead>\n",
       "    <tr style=\"text-align: right;\">\n",
       "      <th></th>\n",
       "      <th>AAPL</th>\n",
       "      <th>AMZN</th>\n",
       "      <th>DIS</th>\n",
       "      <th>JNJ</th>\n",
       "      <th>JPM</th>\n",
       "      <th>META</th>\n",
       "      <th>MSFT</th>\n",
       "      <th>PG</th>\n",
       "      <th>TGT</th>\n",
       "      <th>WMT</th>\n",
       "    </tr>\n",
       "  </thead>\n",
       "  <tbody>\n",
       "    <tr>\n",
       "      <th>AAPL</th>\n",
       "      <td>0.000331</td>\n",
       "      <td>0.000210</td>\n",
       "      <td>0.000140</td>\n",
       "      <td>0.000079</td>\n",
       "      <td>0.000140</td>\n",
       "      <td>0.000230</td>\n",
       "      <td>0.000212</td>\n",
       "      <td>0.000083</td>\n",
       "      <td>0.000117</td>\n",
       "      <td>0.000080</td>\n",
       "    </tr>\n",
       "    <tr>\n",
       "      <th>AMZN</th>\n",
       "      <td>0.000210</td>\n",
       "      <td>0.000442</td>\n",
       "      <td>0.000142</td>\n",
       "      <td>0.000064</td>\n",
       "      <td>0.000112</td>\n",
       "      <td>0.000291</td>\n",
       "      <td>0.000227</td>\n",
       "      <td>0.000061</td>\n",
       "      <td>0.000120</td>\n",
       "      <td>0.000072</td>\n",
       "    </tr>\n",
       "    <tr>\n",
       "      <th>DIS</th>\n",
       "      <td>0.000140</td>\n",
       "      <td>0.000142</td>\n",
       "      <td>0.000298</td>\n",
       "      <td>0.000067</td>\n",
       "      <td>0.000171</td>\n",
       "      <td>0.000163</td>\n",
       "      <td>0.000141</td>\n",
       "      <td>0.000068</td>\n",
       "      <td>0.000108</td>\n",
       "      <td>0.000061</td>\n",
       "    </tr>\n",
       "    <tr>\n",
       "      <th>JNJ</th>\n",
       "      <td>0.000079</td>\n",
       "      <td>0.000064</td>\n",
       "      <td>0.000067</td>\n",
       "      <td>0.000130</td>\n",
       "      <td>0.000083</td>\n",
       "      <td>0.000072</td>\n",
       "      <td>0.000084</td>\n",
       "      <td>0.000074</td>\n",
       "      <td>0.000062</td>\n",
       "      <td>0.000059</td>\n",
       "    </tr>\n",
       "    <tr>\n",
       "      <th>JPM</th>\n",
       "      <td>0.000140</td>\n",
       "      <td>0.000112</td>\n",
       "      <td>0.000171</td>\n",
       "      <td>0.000083</td>\n",
       "      <td>0.000300</td>\n",
       "      <td>0.000141</td>\n",
       "      <td>0.000140</td>\n",
       "      <td>0.000074</td>\n",
       "      <td>0.000108</td>\n",
       "      <td>0.000063</td>\n",
       "    </tr>\n",
       "    <tr>\n",
       "      <th>META</th>\n",
       "      <td>0.000230</td>\n",
       "      <td>0.000291</td>\n",
       "      <td>0.000163</td>\n",
       "      <td>0.000072</td>\n",
       "      <td>0.000141</td>\n",
       "      <td>0.000570</td>\n",
       "      <td>0.000233</td>\n",
       "      <td>0.000068</td>\n",
       "      <td>0.000117</td>\n",
       "      <td>0.000064</td>\n",
       "    </tr>\n",
       "    <tr>\n",
       "      <th>MSFT</th>\n",
       "      <td>0.000212</td>\n",
       "      <td>0.000227</td>\n",
       "      <td>0.000141</td>\n",
       "      <td>0.000084</td>\n",
       "      <td>0.000140</td>\n",
       "      <td>0.000233</td>\n",
       "      <td>0.000297</td>\n",
       "      <td>0.000090</td>\n",
       "      <td>0.000114</td>\n",
       "      <td>0.000082</td>\n",
       "    </tr>\n",
       "    <tr>\n",
       "      <th>PG</th>\n",
       "      <td>0.000083</td>\n",
       "      <td>0.000061</td>\n",
       "      <td>0.000068</td>\n",
       "      <td>0.000074</td>\n",
       "      <td>0.000074</td>\n",
       "      <td>0.000068</td>\n",
       "      <td>0.000090</td>\n",
       "      <td>0.000135</td>\n",
       "      <td>0.000074</td>\n",
       "      <td>0.000072</td>\n",
       "    </tr>\n",
       "    <tr>\n",
       "      <th>TGT</th>\n",
       "      <td>0.000117</td>\n",
       "      <td>0.000120</td>\n",
       "      <td>0.000108</td>\n",
       "      <td>0.000062</td>\n",
       "      <td>0.000108</td>\n",
       "      <td>0.000117</td>\n",
       "      <td>0.000114</td>\n",
       "      <td>0.000074</td>\n",
       "      <td>0.000362</td>\n",
       "      <td>0.000116</td>\n",
       "    </tr>\n",
       "    <tr>\n",
       "      <th>WMT</th>\n",
       "      <td>0.000080</td>\n",
       "      <td>0.000072</td>\n",
       "      <td>0.000061</td>\n",
       "      <td>0.000059</td>\n",
       "      <td>0.000063</td>\n",
       "      <td>0.000064</td>\n",
       "      <td>0.000082</td>\n",
       "      <td>0.000072</td>\n",
       "      <td>0.000116</td>\n",
       "      <td>0.000175</td>\n",
       "    </tr>\n",
       "  </tbody>\n",
       "</table>\n",
       "</div>"
      ],
      "text/plain": [
       "          AAPL      AMZN       DIS       JNJ       JPM      META      MSFT  \\\n",
       "AAPL  0.000331  0.000210  0.000140  0.000079  0.000140  0.000230  0.000212   \n",
       "AMZN  0.000210  0.000442  0.000142  0.000064  0.000112  0.000291  0.000227   \n",
       "DIS   0.000140  0.000142  0.000298  0.000067  0.000171  0.000163  0.000141   \n",
       "JNJ   0.000079  0.000064  0.000067  0.000130  0.000083  0.000072  0.000084   \n",
       "JPM   0.000140  0.000112  0.000171  0.000083  0.000300  0.000141  0.000140   \n",
       "META  0.000230  0.000291  0.000163  0.000072  0.000141  0.000570  0.000233   \n",
       "MSFT  0.000212  0.000227  0.000141  0.000084  0.000140  0.000233  0.000297   \n",
       "PG    0.000083  0.000061  0.000068  0.000074  0.000074  0.000068  0.000090   \n",
       "TGT   0.000117  0.000120  0.000108  0.000062  0.000108  0.000117  0.000114   \n",
       "WMT   0.000080  0.000072  0.000061  0.000059  0.000063  0.000064  0.000082   \n",
       "\n",
       "            PG       TGT       WMT  \n",
       "AAPL  0.000083  0.000117  0.000080  \n",
       "AMZN  0.000061  0.000120  0.000072  \n",
       "DIS   0.000068  0.000108  0.000061  \n",
       "JNJ   0.000074  0.000062  0.000059  \n",
       "JPM   0.000074  0.000108  0.000063  \n",
       "META  0.000068  0.000117  0.000064  \n",
       "MSFT  0.000090  0.000114  0.000082  \n",
       "PG    0.000135  0.000074  0.000072  \n",
       "TGT   0.000074  0.000362  0.000116  \n",
       "WMT   0.000072  0.000116  0.000175  "
      ]
     },
     "execution_count": 5,
     "metadata": {},
     "output_type": "execute_result"
    }
   ],
   "source": [
    "mat_var_covar = returns_data.cov()\n",
    "mat_var_covar"
   ]
  },
  {
   "cell_type": "code",
   "execution_count": 6,
   "id": "189d2c05-51e2-4570-be5c-20428c16914b",
   "metadata": {
    "tags": []
   },
   "outputs": [
    {
     "data": {
      "text/html": [
       "<div>\n",
       "<style scoped>\n",
       "    .dataframe tbody tr th:only-of-type {\n",
       "        vertical-align: middle;\n",
       "    }\n",
       "\n",
       "    .dataframe tbody tr th {\n",
       "        vertical-align: top;\n",
       "    }\n",
       "\n",
       "    .dataframe thead th {\n",
       "        text-align: right;\n",
       "    }\n",
       "</style>\n",
       "<table border=\"1\" class=\"dataframe\">\n",
       "  <thead>\n",
       "    <tr style=\"text-align: right;\">\n",
       "      <th></th>\n",
       "      <th>AAPL</th>\n",
       "      <th>AMZN</th>\n",
       "      <th>DIS</th>\n",
       "      <th>JNJ</th>\n",
       "      <th>JPM</th>\n",
       "      <th>META</th>\n",
       "      <th>MSFT</th>\n",
       "      <th>PG</th>\n",
       "      <th>TGT</th>\n",
       "      <th>WMT</th>\n",
       "    </tr>\n",
       "  </thead>\n",
       "  <tbody>\n",
       "    <tr>\n",
       "      <th>count</th>\n",
       "      <td>2367.000000</td>\n",
       "      <td>2367.000000</td>\n",
       "      <td>2367.000000</td>\n",
       "      <td>2367.000000</td>\n",
       "      <td>2367.000000</td>\n",
       "      <td>2367.000000</td>\n",
       "      <td>2367.000000</td>\n",
       "      <td>2367.000000</td>\n",
       "      <td>2367.000000</td>\n",
       "      <td>2367.000000</td>\n",
       "    </tr>\n",
       "    <tr>\n",
       "      <th>mean</th>\n",
       "      <td>0.001148</td>\n",
       "      <td>0.000985</td>\n",
       "      <td>0.000243</td>\n",
       "      <td>0.000397</td>\n",
       "      <td>0.000622</td>\n",
       "      <td>0.000952</td>\n",
       "      <td>0.001144</td>\n",
       "      <td>0.000427</td>\n",
       "      <td>0.000612</td>\n",
       "      <td>0.000435</td>\n",
       "    </tr>\n",
       "    <tr>\n",
       "      <th>std</th>\n",
       "      <td>0.018201</td>\n",
       "      <td>0.021015</td>\n",
       "      <td>0.017261</td>\n",
       "      <td>0.011393</td>\n",
       "      <td>0.017318</td>\n",
       "      <td>0.023877</td>\n",
       "      <td>0.017248</td>\n",
       "      <td>0.011620</td>\n",
       "      <td>0.019031</td>\n",
       "      <td>0.013243</td>\n",
       "    </tr>\n",
       "    <tr>\n",
       "      <th>min</th>\n",
       "      <td>-0.128647</td>\n",
       "      <td>-0.140494</td>\n",
       "      <td>-0.131632</td>\n",
       "      <td>-0.100379</td>\n",
       "      <td>-0.149649</td>\n",
       "      <td>-0.263901</td>\n",
       "      <td>-0.147390</td>\n",
       "      <td>-0.087373</td>\n",
       "      <td>-0.249303</td>\n",
       "      <td>-0.113757</td>\n",
       "    </tr>\n",
       "    <tr>\n",
       "      <th>25%</th>\n",
       "      <td>-0.007225</td>\n",
       "      <td>-0.008626</td>\n",
       "      <td>-0.007038</td>\n",
       "      <td>-0.004825</td>\n",
       "      <td>-0.007403</td>\n",
       "      <td>-0.009477</td>\n",
       "      <td>-0.006667</td>\n",
       "      <td>-0.004815</td>\n",
       "      <td>-0.007520</td>\n",
       "      <td>-0.005575</td>\n",
       "    </tr>\n",
       "    <tr>\n",
       "      <th>50%</th>\n",
       "      <td>0.000905</td>\n",
       "      <td>0.001105</td>\n",
       "      <td>0.000197</td>\n",
       "      <td>0.000308</td>\n",
       "      <td>0.000391</td>\n",
       "      <td>0.001020</td>\n",
       "      <td>0.000785</td>\n",
       "      <td>0.000576</td>\n",
       "      <td>0.000819</td>\n",
       "      <td>0.000437</td>\n",
       "    </tr>\n",
       "    <tr>\n",
       "      <th>75%</th>\n",
       "      <td>0.010347</td>\n",
       "      <td>0.011161</td>\n",
       "      <td>0.007786</td>\n",
       "      <td>0.006011</td>\n",
       "      <td>0.008603</td>\n",
       "      <td>0.012109</td>\n",
       "      <td>0.009846</td>\n",
       "      <td>0.006003</td>\n",
       "      <td>0.009068</td>\n",
       "      <td>0.006539</td>\n",
       "    </tr>\n",
       "    <tr>\n",
       "      <th>max</th>\n",
       "      <td>0.119809</td>\n",
       "      <td>0.141311</td>\n",
       "      <td>0.144123</td>\n",
       "      <td>0.079977</td>\n",
       "      <td>0.180125</td>\n",
       "      <td>0.232824</td>\n",
       "      <td>0.142169</td>\n",
       "      <td>0.120090</td>\n",
       "      <td>0.204256</td>\n",
       "      <td>0.117085</td>\n",
       "    </tr>\n",
       "  </tbody>\n",
       "</table>\n",
       "</div>"
      ],
      "text/plain": [
       "              AAPL         AMZN          DIS          JNJ          JPM  \\\n",
       "count  2367.000000  2367.000000  2367.000000  2367.000000  2367.000000   \n",
       "mean      0.001148     0.000985     0.000243     0.000397     0.000622   \n",
       "std       0.018201     0.021015     0.017261     0.011393     0.017318   \n",
       "min      -0.128647    -0.140494    -0.131632    -0.100379    -0.149649   \n",
       "25%      -0.007225    -0.008626    -0.007038    -0.004825    -0.007403   \n",
       "50%       0.000905     0.001105     0.000197     0.000308     0.000391   \n",
       "75%       0.010347     0.011161     0.007786     0.006011     0.008603   \n",
       "max       0.119809     0.141311     0.144123     0.079977     0.180125   \n",
       "\n",
       "              META         MSFT           PG          TGT          WMT  \n",
       "count  2367.000000  2367.000000  2367.000000  2367.000000  2367.000000  \n",
       "mean      0.000952     0.001144     0.000427     0.000612     0.000435  \n",
       "std       0.023877     0.017248     0.011620     0.019031     0.013243  \n",
       "min      -0.263901    -0.147390    -0.087373    -0.249303    -0.113757  \n",
       "25%      -0.009477    -0.006667    -0.004815    -0.007520    -0.005575  \n",
       "50%       0.001020     0.000785     0.000576     0.000819     0.000437  \n",
       "75%       0.012109     0.009846     0.006003     0.009068     0.006539  \n",
       "max       0.232824     0.142169     0.120090     0.204256     0.117085  "
      ]
     },
     "execution_count": 6,
     "metadata": {},
     "output_type": "execute_result"
    }
   ],
   "source": [
    "summary_stats = returns_data.describe()\n",
    "summary_stats"
   ]
  },
  {
   "cell_type": "code",
   "execution_count": 7,
   "id": "25fe5898-10da-4345-946e-f27d044247da",
   "metadata": {
    "tags": []
   },
   "outputs": [
    {
     "data": {
      "text/plain": [
       "AAPL    0.288930\n",
       "AMZN    0.333608\n",
       "DIS     0.274015\n",
       "JNJ     0.180854\n",
       "JPM     0.274922\n",
       "META    0.379037\n",
       "MSFT    0.273798\n",
       "PG      0.184462\n",
       "TGT     0.302109\n",
       "WMT     0.210224\n",
       "Name: std, dtype: float64"
      ]
     },
     "execution_count": 7,
     "metadata": {},
     "output_type": "execute_result"
    }
   ],
   "source": [
    "std_dev_stocks = summary_stats.loc['std']*np.sqrt(252)\n",
    "std_dev_stocks"
   ]
  },
  {
   "cell_type": "markdown",
   "id": "3ac56579-8d15-41c7-be4f-dc9d7f1f1614",
   "metadata": {},
   "source": [
    "## Aquí vamos a partir de un equally weighted portfolio, es decir, le asignamos el mismo peso a todos los activos."
   ]
  },
  {
   "cell_type": "code",
   "execution_count": 8,
   "id": "09429d6d-87a6-49b2-a69c-292b90d387e3",
   "metadata": {
    "tags": []
   },
   "outputs": [
    {
     "name": "stdout",
     "output_type": "stream",
     "text": [
      "Number of Stocks: 10\n"
     ]
    }
   ],
   "source": [
    "number_of_stocks = len(mean_returns)\n",
    "print(f'Number of Stocks: {number_of_stocks}')"
   ]
  },
  {
   "cell_type": "code",
   "execution_count": 9,
   "id": "3608ecd3-2449-4e8d-b204-115036565a67",
   "metadata": {
    "tags": []
   },
   "outputs": [
    {
     "data": {
      "text/plain": [
       "[0.1, 0.1, 0.1, 0.1, 0.1, 0.1, 0.1, 0.1, 0.1, 0.1]"
      ]
     },
     "execution_count": 9,
     "metadata": {},
     "output_type": "execute_result"
    }
   ],
   "source": [
    "weights = [1 / number_of_stocks]*number_of_stocks\n",
    "weights"
   ]
  },
  {
   "cell_type": "code",
   "execution_count": 10,
   "id": "ef106b6c-4fdb-46ea-b7fe-20a647d7bb1d",
   "metadata": {
    "tags": []
   },
   "outputs": [
    {
     "data": {
      "text/plain": [
       "0.17551012593498114"
      ]
     },
     "execution_count": 10,
     "metadata": {},
     "output_type": "execute_result"
    }
   ],
   "source": [
    "return_portfolio_annual = np.dot(weights, mean_returns)*252\n",
    "return_portfolio_annual"
   ]
  },
  {
   "cell_type": "code",
   "execution_count": 11,
   "id": "2d6ab6b4-5b45-4f32-9db9-64eb716da3a8",
   "metadata": {
    "tags": []
   },
   "outputs": [
    {
     "data": {
      "text/plain": [
       "0.03362134133144719"
      ]
     },
     "execution_count": 11,
     "metadata": {},
     "output_type": "execute_result"
    }
   ],
   "source": [
    "var_portfolio_annual = np.dot(weights, np.dot(mat_var_covar, np.transpose(weights)))*252\n",
    "var_portfolio_annual"
   ]
  },
  {
   "cell_type": "code",
   "execution_count": 12,
   "id": "e5817b27-e766-4b9c-8722-f2df24e24755",
   "metadata": {
    "tags": []
   },
   "outputs": [
    {
     "name": "stdout",
     "output_type": "stream",
     "text": [
      "min return: 0.00024337143578094598, max return = 0.0011477017245370778, step = 4.521651443780659e-05\n"
     ]
    }
   ],
   "source": [
    "min_return = mean_returns.min()\n",
    "max_return = mean_returns.max()\n",
    "step_returns = (max_return - min_return) / 20\n",
    "print(f'min return: {min_return}, max return = {max_return}, step = {step_returns}')"
   ]
  },
  {
   "cell_type": "markdown",
   "id": "470b5fd4-4190-4a8d-b98b-55e960ff480e",
   "metadata": {},
   "source": [
    "## Ahora vamos a calcular los pesos óptimos para cada retorno esperado, de tal manera que se minimice la varianza del portafolio"
   ]
  },
  {
   "cell_type": "code",
   "execution_count": 13,
   "id": "3a4e1c0c-7887-424a-b54e-5cd75e77c59f",
   "metadata": {
    "tags": []
   },
   "outputs": [],
   "source": [
    "def getPortRisk(weights):\n",
    "    returns_data = price_data.pct_change(1).dropna()\n",
    "    num_stocks = len(returns_data.columns)\n",
    "    var_covar_matrix = returns_data.cov()\n",
    "    var_port = np.dot(np.transpose(weights), np.dot(var_covar_matrix, weights))\n",
    "    sd_port = np.sqrt(var_port)\n",
    "    sd_port_annual = sd_port * np.sqrt(252)\n",
    "    return sd_port_annual"
   ]
  },
  {
   "cell_type": "code",
   "execution_count": 14,
   "id": "5de8351e-d65f-4508-9786-27c25f01f938",
   "metadata": {
    "tags": []
   },
   "outputs": [],
   "source": [
    "num_stocks = len(price_data.columns)\n",
    "init_weights = [1 / num_stocks] * num_stocks\n",
    "\n",
    "bounds = tuple((0, 1) for i in range(num_stocks))\n",
    "\n",
    "optimal_w = [ ]\n",
    "\n",
    "sd_eff_front = []\n",
    "\n",
    "r_eff_front = np.linspace(min_return, max_return, num=100) * 252\n",
    "\n",
    "for target_return in np.linspace(min_return, max_return, num=100):\n",
    "    cons = ({'type': 'eq', 'fun': lambda x: np.sum(x) - 1},\n",
    "        {'type': 'eq', 'fun': lambda x: np.dot(mean_returns, x) - target_return})\n",
    "    results = minimize(fun=getPortRisk, x0=init_weights, bounds=bounds, constraints=cons)\n",
    "    optimal_w.append(results['x'])\n",
    "    sd_eff_front.append(results['fun'])    "
   ]
  },
  {
   "cell_type": "code",
   "execution_count": 15,
   "id": "04eed124-96a8-4252-bc28-2f52b055d060",
   "metadata": {
    "tags": []
   },
   "outputs": [],
   "source": [
    "df = pd.DataFrame({\n",
    "    'Annual Standard Deviation': sd_eff_front,\n",
    "    'Annual Expected Returns': r_eff_front,\n",
    "    'Optimal Weights': optimal_w\n",
    "})"
   ]
  },
  {
   "cell_type": "code",
   "execution_count": 16,
   "id": "ba85c2ad-5027-4bd5-ae9f-fe4066be06d7",
   "metadata": {
    "tags": []
   },
   "outputs": [
    {
     "data": {
      "text/html": [
       "<div>\n",
       "<style scoped>\n",
       "    .dataframe tbody tr th:only-of-type {\n",
       "        vertical-align: middle;\n",
       "    }\n",
       "\n",
       "    .dataframe tbody tr th {\n",
       "        vertical-align: top;\n",
       "    }\n",
       "\n",
       "    .dataframe thead th {\n",
       "        text-align: right;\n",
       "    }\n",
       "</style>\n",
       "<table border=\"1\" class=\"dataframe\">\n",
       "  <thead>\n",
       "    <tr style=\"text-align: right;\">\n",
       "      <th></th>\n",
       "      <th>Annual Standard Deviation</th>\n",
       "      <th>Annual Expected Returns</th>\n",
       "      <th>Optimal Weights</th>\n",
       "    </tr>\n",
       "  </thead>\n",
       "  <tbody>\n",
       "    <tr>\n",
       "      <th>0</th>\n",
       "      <td>0.274015</td>\n",
       "      <td>0.061330</td>\n",
       "      <td>[2.5518363638651087e-16, 0.0, 0.99999999999690...</td>\n",
       "    </tr>\n",
       "    <tr>\n",
       "      <th>1</th>\n",
       "      <td>0.261539</td>\n",
       "      <td>0.063632</td>\n",
       "      <td>[1.0269562977782698e-15, 2.7755575615628914e-1...</td>\n",
       "    </tr>\n",
       "    <tr>\n",
       "      <th>2</th>\n",
       "      <td>0.249496</td>\n",
       "      <td>0.065933</td>\n",
       "      <td>[2.7755575615628914e-17, 1.3877787807814457e-1...</td>\n",
       "    </tr>\n",
       "    <tr>\n",
       "      <th>3</th>\n",
       "      <td>0.237949</td>\n",
       "      <td>0.068235</td>\n",
       "      <td>[0.0, 3.1559719889848815e-17, 0.82135379782195...</td>\n",
       "    </tr>\n",
       "    <tr>\n",
       "      <th>4</th>\n",
       "      <td>0.226976</td>\n",
       "      <td>0.070537</td>\n",
       "      <td>[0.0, 1.9172747761006584e-16, 0.76180506377331...</td>\n",
       "    </tr>\n",
       "  </tbody>\n",
       "</table>\n",
       "</div>"
      ],
      "text/plain": [
       "   Annual Standard Deviation  Annual Expected Returns  \\\n",
       "0                   0.274015                 0.061330   \n",
       "1                   0.261539                 0.063632   \n",
       "2                   0.249496                 0.065933   \n",
       "3                   0.237949                 0.068235   \n",
       "4                   0.226976                 0.070537   \n",
       "\n",
       "                                     Optimal Weights  \n",
       "0  [2.5518363638651087e-16, 0.0, 0.99999999999690...  \n",
       "1  [1.0269562977782698e-15, 2.7755575615628914e-1...  \n",
       "2  [2.7755575615628914e-17, 1.3877787807814457e-1...  \n",
       "3  [0.0, 3.1559719889848815e-17, 0.82135379782195...  \n",
       "4  [0.0, 1.9172747761006584e-16, 0.76180506377331...  "
      ]
     },
     "execution_count": 16,
     "metadata": {},
     "output_type": "execute_result"
    }
   ],
   "source": [
    "df.head()"
   ]
  },
  {
   "cell_type": "markdown",
   "id": "2759f5e5-da61-4d63-86af-eedb0c0bea9c",
   "metadata": {},
   "source": [
    "## El siguiente paso es graficar la frontera eficiente"
   ]
  },
  {
   "cell_type": "code",
   "execution_count": 17,
   "id": "a5b38903-5757-4a12-afd8-b5bbc4c01dbc",
   "metadata": {
    "tags": []
   },
   "outputs": [
    {
     "data": {
      "image/png": "[encoded data removed]",
      "text/plain": [
       "<Figure size 1200x600 with 1 Axes>"
      ]
     },
     "metadata": {},
     "output_type": "display_data"
    }
   ],
   "source": [
    "# Increase the size of the graph\n",
    "plt.figure(figsize=(12, 6))\n",
    "\n",
    "# Create a scatter plot using Matplotlib\n",
    "plt.scatter(df['Annual Standard Deviation'], df['Annual Expected Returns'])\n",
    "\n",
    "# Add labels and a title to the plot\n",
    "plt.xlabel('annualised standard deviation')\n",
    "plt.ylabel('annual expected return')\n",
    "plt.title('Efficient Frontier')\n",
    "\n",
    "# Show the plot\n",
    "plt.show()"
   ]
  },
  {
   "cell_type": "code",
   "execution_count": 18,
   "id": "cf72eebd-e2e9-48af-b6e9-78fed06b238c",
   "metadata": {
    "tags": []
   },
   "outputs": [
    {
     "name": "stdout",
     "output_type": "stream",
     "text": [
      "Optimal Sharpe Ratio: 0.968205066530273\n",
      "\n",
      "           Weights\n",
      "AAPL  4.151216e-01\n",
      "AMZN  0.000000e+00\n",
      "DIS   2.992398e-17\n",
      "JNJ   1.778092e-17\n",
      "JPM   0.000000e+00\n",
      "META  1.821460e-17\n",
      "MSFT  5.687005e-01\n",
      "PG    3.773024e-17\n",
      "TGT   1.617793e-02\n",
      "WMT   0.000000e+00\n"
     ]
    }
   ],
   "source": [
    "risk_free_rate = 0.04\n",
    "\n",
    "def GetSharpeRatio(weights, mean_returns, var_covar_matrix, risk_free_rate):\n",
    "\n",
    "    portfolio_return = np.dot(weights, mean_returns)\n",
    "    portfolio_std_dev = np.sqrt(np.dot(np.transpose(weights), np.dot(var_covar_matrix, weights)))\n",
    "    portfolio_std_dev_annual = portfolio_std_dev * np.sqrt(252)\n",
    "    Sharpe_Ratio = (portfolio_return*252 - risk_free_rate) / portfolio_std_dev_annual\n",
    "    return -Sharpe_Ratio # Minimize the negative Sharpe Ratio to maximize the Sharpe Ratio\n",
    "\n",
    "cons = ({'type': 'eq', 'fun': lambda x: np.sum(x) - 1})\n",
    "\n",
    "results2 = minimize(fun=GetSharpeRatio, x0=init_weights, args=(mean_returns, mat_var_covar, risk_free_rate),\n",
    "                  method='SLSQP', bounds=bounds, constraints=cons)\n",
    "\n",
    "optimal_weights = results2.x\n",
    "optimal_sharpe_ratio = -GetSharpeRatio (optimal_weights, mean_returns, mat_var_covar, risk_free_rate)\n",
    "\n",
    "print(f'Optimal Sharpe Ratio: {optimal_sharpe_ratio}')\n",
    "\n",
    "optimal_weights = pd.DataFrame(optimal_weights)\n",
    "\n",
    "optimal_weights.index = price_data.columns\n",
    "\n",
    "optimal_weights.rename(columns={optimal_weights.columns[0] : 'Weights'}, inplace=True)\n",
    "\n",
    "print()\n",
    "print(optimal_weights)"
   ]
  },
  {
   "cell_type": "code",
   "execution_count": 19,
   "id": "9c98e88e-7aa7-431b-97e6-46cf76434bc2",
   "metadata": {
    "tags": []
   },
   "outputs": [
    {
     "data": {
      "text/html": [
       "<div>\n",
       "<style scoped>\n",
       "    .dataframe tbody tr th:only-of-type {\n",
       "        vertical-align: middle;\n",
       "    }\n",
       "\n",
       "    .dataframe tbody tr th {\n",
       "        vertical-align: top;\n",
       "    }\n",
       "\n",
       "    .dataframe thead th {\n",
       "        text-align: right;\n",
       "    }\n",
       "</style>\n",
       "<table border=\"1\" class=\"dataframe\">\n",
       "  <thead>\n",
       "    <tr style=\"text-align: right;\">\n",
       "      <th></th>\n",
       "      <th>Weights</th>\n",
       "      <th>Rounded Weights</th>\n",
       "    </tr>\n",
       "  </thead>\n",
       "  <tbody>\n",
       "    <tr>\n",
       "      <th>AAPL</th>\n",
       "      <td>4.151216e-01</td>\n",
       "      <td>0.4151</td>\n",
       "    </tr>\n",
       "    <tr>\n",
       "      <th>AMZN</th>\n",
       "      <td>0.000000e+00</td>\n",
       "      <td>0.0000</td>\n",
       "    </tr>\n",
       "    <tr>\n",
       "      <th>DIS</th>\n",
       "      <td>2.992398e-17</td>\n",
       "      <td>0.0000</td>\n",
       "    </tr>\n",
       "    <tr>\n",
       "      <th>JNJ</th>\n",
       "      <td>1.778092e-17</td>\n",
       "      <td>0.0000</td>\n",
       "    </tr>\n",
       "    <tr>\n",
       "      <th>JPM</th>\n",
       "      <td>0.000000e+00</td>\n",
       "      <td>0.0000</td>\n",
       "    </tr>\n",
       "    <tr>\n",
       "      <th>META</th>\n",
       "      <td>1.821460e-17</td>\n",
       "      <td>0.0000</td>\n",
       "    </tr>\n",
       "    <tr>\n",
       "      <th>MSFT</th>\n",
       "      <td>5.687005e-01</td>\n",
       "      <td>0.5687</td>\n",
       "    </tr>\n",
       "    <tr>\n",
       "      <th>PG</th>\n",
       "      <td>3.773024e-17</td>\n",
       "      <td>0.0000</td>\n",
       "    </tr>\n",
       "    <tr>\n",
       "      <th>TGT</th>\n",
       "      <td>1.617793e-02</td>\n",
       "      <td>0.0162</td>\n",
       "    </tr>\n",
       "    <tr>\n",
       "      <th>WMT</th>\n",
       "      <td>0.000000e+00</td>\n",
       "      <td>0.0000</td>\n",
       "    </tr>\n",
       "  </tbody>\n",
       "</table>\n",
       "</div>"
      ],
      "text/plain": [
       "           Weights  Rounded Weights\n",
       "AAPL  4.151216e-01           0.4151\n",
       "AMZN  0.000000e+00           0.0000\n",
       "DIS   2.992398e-17           0.0000\n",
       "JNJ   1.778092e-17           0.0000\n",
       "JPM   0.000000e+00           0.0000\n",
       "META  1.821460e-17           0.0000\n",
       "MSFT  5.687005e-01           0.5687\n",
       "PG    3.773024e-17           0.0000\n",
       "TGT   1.617793e-02           0.0162\n",
       "WMT   0.000000e+00           0.0000"
      ]
     },
     "execution_count": 19,
     "metadata": {},
     "output_type": "execute_result"
    }
   ],
   "source": [
    "optimal_weights['Rounded Weights'] = optimal_weights['Weights'].apply(lambda x: round(x, 4))\n",
    "optimal_weights"
   ]
  },
  {
   "cell_type": "code",
   "execution_count": 20,
   "id": "34e1eed7-6416-4021-b057-9d9465bbf0dd",
   "metadata": {
    "tags": []
   },
   "outputs": [
    {
     "name": "stdout",
     "output_type": "stream",
     "text": [
      "Expected Return of the Optimal Portfolio: 0.28651680215676517\n",
      "Standard Deviation of the Optimal Portfolio: 0.2546121760024338\n"
     ]
    }
   ],
   "source": [
    "return_optimal_port = np.dot(optimal_weights['Rounded Weights'], mean_returns)*252\n",
    "print(f'Expected Return of the Optimal Portfolio: {return_optimal_port}')\n",
    "\n",
    "var_optimal_port = np.dot(optimal_weights['Rounded Weights'], np.dot(mat_var_covar, optimal_weights['Rounded Weights']))*252\n",
    "desv_est_optimal_port = np.sqrt(var_optimal_port)\n",
    "print(f'Standard Deviation of the Optimal Portfolio: {desv_est_optimal_port}')"
   ]
  },
  {
   "cell_type": "code",
   "execution_count": 21,
   "id": "ed9cf2a9-58db-4952-9081-743d18a41a5a",
   "metadata": {
    "tags": []
   },
   "outputs": [
    {
     "data": {
      "image/png": "[encoded data removed]",
      "text/plain": [
       "<Figure size 1200x600 with 1 Axes>"
      ]
     },
     "metadata": {},
     "output_type": "display_data"
    }
   ],
   "source": [
    "# Increase the size of the graph\n",
    "plt.figure(figsize=(12, 6))\n",
    "\n",
    "# Create a scatter plot using Matplotlib\n",
    "colors = ['red', 'blue', 'yellow', 'black', 'orange', 'brown', 'olive', 'green', 'cyan', 'pink']\n",
    "plt.scatter(df['Annual Standard Deviation'], df['Annual Expected Returns'])\n",
    "plt.scatter(desv_est_optimal_port, return_optimal_port, s=100, label='Optimal Portfolio', c='purple')\n",
    "\n",
    "\n",
    "labels = ticker\n",
    "\n",
    "# Create a scatter plot with different labels for each point\n",
    "for i in range(len(ticker)):\n",
    "    plt.scatter(std_dev_stocks[i], mean_returns[i]*252, s=80, label=labels[i], c=colors[i])\n",
    "\n",
    "# Add labels and a title to the plot\n",
    "plt.xlabel('annualised standard deviation')\n",
    "plt.ylabel('annual expected return')\n",
    "plt.title('Efficient Frontier')\n",
    "\n",
    "# show legends\n",
    "legend = plt.legend(loc='upper right', bbox_to_anchor=(1, 1))\n",
    "\n",
    "# Show the plot\n",
    "plt.show()"
   ]
  },
  {
   "cell_type": "code",
   "execution_count": null,
   "id": "bff7e4c9",
   "metadata": {},
   "outputs": [],
   "source": []
  }
 ],
 "metadata": {
  "kernelspec": {
   "display_name": "Python 3 (ipykernel)",
   "language": "python",
   "name": "python3"
  },
  "language_info": {
   "codemirror_mode": {
    "name": "ipython",
    "version": 3
   },
   "file_extension": ".py",
   "mimetype": "text/x-python",
   "name": "python",
   "nbconvert_exporter": "python",
   "pygments_lexer": "ipython3",
   "version": "3.11.5"
  }
 },
 "nbformat": 4,
 "nbformat_minor": 5
}
